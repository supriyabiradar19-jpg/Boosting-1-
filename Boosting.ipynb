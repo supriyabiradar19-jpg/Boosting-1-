{
  "nbformat": 4,
  "nbformat_minor": 0,
  "metadata": {
    "colab": {
      "provenance": []
    },
    "kernelspec": {
      "name": "python3",
      "display_name": "Python 3"
    },
    "language_info": {
      "name": "python"
    }
  },
  "cells": [
    {
      "cell_type": "code",
      "execution_count": null,
      "metadata": {
        "id": "qsG6yABEjX7i"
      },
      "outputs": [],
      "source": [
        "1.  What is Boosting in Machine Learning? Explain how it improves weak learners.\n",
        "\n",
        "    -> Boosting is an iterative, sequential ensemble learning technique that combines multiple \"weak learners\"\n",
        "       to build a single, highly accurate \"strong learner\" by focusing on the mistakes of previous models.\n",
        "\n",
        "\n",
        "      #  How Boosting Improves Weak Learners\n",
        "\n",
        "# 1. Sequential Training:\n",
        "            Unlike methods that train models independently (like bagging), boosting trains weak learners one after another in a specific order.\n",
        "# 2. Weighting Misclassified Data:\n",
        "                After each weak learner is trained, the algorithm identifies the data points that were misclassified.\n",
        "                   It then assigns higher weights to these difficult-to-classify examples for the next iteration.\n",
        "# 3. Error Correction:\n",
        "             The subsequent weak learner is trained to focus on these higher-weighted, previously misclassified instances,\n",
        "                effectively trying to \"correct\" the errors of its predecessors.\n",
        "# 4. Iterative Improvement:\n",
        "            This process of adjusting weights and retraining continues iteratively. Each new model adds to the overall predictive\n",
        "               power of the ensemble by focusing on the remaining mistakes.\n",
        "# 5. Final Combination:\n",
        "        The predictions of all the weak learners are combined, often with different weights, to form a final, strong predictive model that is\n",
        "    significantly more accurate and robust than any individual weak learner."
      ]
    },
    {
      "cell_type": "code",
      "source": [
        "2.  : What is the difference between AdaBoost and Gradient Boosting in terms of how models are trained?\n",
        "\n",
        "      ->  AdaBoost and Gradient Boosting both train models sequentially, but AdaBoost increases the weights of misclassified\n",
        "           data points in subsequent iterations to focus on them\n",
        "\n",
        "\n",
        "          #  AdaBoost Training Method\n",
        "\n",
        "# Weighted Data Points:\n",
        "             AdaBoost starts by assigning equal weights to all training data points.\n",
        "# Iterative Training:\n",
        "            It then trains a series of weak learners (models).\n",
        "# Increase Weights:\n",
        "           After each model is trained, it identifies the misclassified data points and increases their weights, making them more important for the next model.\n",
        "# Weighted Combination:\n",
        "              The final prediction is formed by a weighted combination of all weak learners, with models that performed better having more influence.\n",
        "\n",
        "# Gradient Boosting Training Method\n",
        "\n",
        "1. Sequential Models:\n",
        "          Gradient Boosting also trains models sequentially, but the focus is on minimizing errors.\n",
        "2. Error Prediction:\n",
        "           Each new model is trained to predict the residuals, or the error, made by the previous model.\n",
        "3. Gradient of Loss Function:\n",
        "        To do this, it calculates the gradient of the loss function (a measure of error) to determine the optimal direction to reduce the error in each step.\n",
        "# 4. Iterative Improvement:\n",
        "The process iteratively adds new models that are specifically trained to correct the errors left by the previous ones, progressively reducing the overall loss.\n",
        "Key Difference Summarized\n",
        "# AdaBoost:\n",
        "Focuses on re-weighting data points that were misclassified by previous models"
      ],
      "metadata": {
        "id": "0w45NjmWkEzq"
      },
      "execution_count": null,
      "outputs": []
    },
    {
      "cell_type": "code",
      "source": [
        "3.  How does regularization help in XGBoost?\n",
        "\n",
        "      # ->  XGBoost incorporates several regularization techniques\n",
        "      :\n",
        "# L1 (Lasso) and L2 (Ridge) Regularization (alpha and lambda parameters):\n",
        "\n",
        "These add penalty terms to the objective function based on the magnitude of the leaf weights.\n",
        "L1 regularization (alpha):\n",
        "             adds a penalty proportional to the absolute value of the leaf weights.\n",
        "       This can lead to sparsity by driving less important leaf weights to zero, effectively performing feature selection at the leaf level.\n",
        "# L2 regularization (lambda):\n",
        "                  adds a penalty proportional to the squared magnitude of the leaf weights. This encourages smaller, more distributed weights,\n",
        "                 preventing any single leaf from having too much influence and promoting a more stable model.\n",
        "\n",
        "\n",
        "# Tree Complexity Control (gamma parameter):\n",
        "Gamma:\n",
        "             is a minimum loss reduction required to make a further partition on a leaf node of the tree.\n",
        "       *  A higher gamma value makes the algorithm more conservative, preventing the growth of complex trees that might\n",
        "           overfit the training data. If the gain from a split is less than gamma, the split is not performed, effectively pruning the tree.\n",
        "# Subsampling:\n",
        "The subsample parameter controls the fraction of training instances randomly sampled for building each tree.\n",
        "Training on a subset of the data for each tree introduces randomness and helps to reduce variance, thereby mitigating overfitting\n",
        "\n"
      ],
      "metadata": {
        "id": "f27C26QTkE08"
      },
      "execution_count": null,
      "outputs": []
    },
    {
      "cell_type": "code",
      "source": [
        "4. : Why is CatBoost considered efficient for handling categorical data?\n",
        "\n",
        "    # ->  Key reasons for CatBoost's efficiency in handling categorical data:\n",
        "\n",
        "# Ordered Target Encoding:\n",
        "                CatBoost employs a specialized form of target encoding that addresses the issue of target leakage, a common problem in\n",
        "               traditional target encoding methods. It does this by using a permutation-driven approach where the target mean for a category is\n",
        "                 calculated based on a subset of the data that does not include the current sample, thus preventing information from the target variable\n",
        "                  from \"leaking\" into the feature encoding.\n",
        "# Native Handling of Categorical Features:\n",
        "Unlike many other gradient boosting algorithms that require explicit one-hot encoding or other manual transformations of categorical features,\n",
        " CatBoost can directly process them. It automatically identifies and converts categorical features into numerical representations using its internal\n",
        "  algorithms, saving significant preprocessing time and effort.\n",
        "# Ordered Boosting:\n",
        "            CatBoost introduces a novel \"ordered boosting\" scheme that helps to prevent prediction shift, a phenomenon where the distribution of\n",
        "            gradients changes during training, potentially leading to overfitting. By using a specific ordering of data points during tree construction\n",
        "             and gradient calculation, CatBoost ensures that the gradients are calculated based on unbiased estimates, leading to more robust models.\n",
        "# Symmetric Trees:\n",
        "CatBoost utilizes symmetric trees, also known as oblivious trees, where the same splitting condition is applied at each level of the tree.\n",
        " This structure allows for more efficient computation and parallelization, further contributing to faster training times, especially wit\n",
        " h large datasets and numerous categorical features.\n",
        "  *  These features combined allow CatBoost to effectively leverage the information contained within categorical variables while maintaining\n",
        " high performance and reducing the risk of overfitting, making it a highly efficient choice for datasets with a significant presence of categorical data.\n"
      ],
      "metadata": {
        "id": "JymQGjDIkE4T"
      },
      "execution_count": null,
      "outputs": []
    },
    {
      "cell_type": "code",
      "source": [
        "5.  : What are some real-world applications where boosting techniques are preferred over bagging methods?\n",
        "\n",
        "      #  -> Specific Applications for Boosting:\n",
        "Fraud Detection:\n",
        "         Boosting models like Gradient Boosting can focus on and correct misclassified transactions by assigning higher weights to them in subsequent\n",
        "           training rounds, leading to more precise detection of fraudulent activities.\n",
        "# Credit Scoring:\n",
        "          The iterative learning in boosting allows models to become highly precise in assessing credit risk by continuously refining their predictions\n",
        "            based on past data and focusing on individuals likely to default.\n",
        "# Customer Churn Prediction:\n",
        "               Boosting's ability to reduce bias and improve predictive power makes it suitable for identifying customers likely to leave a service, as it\n",
        "                 can sequentially learn from complex patterns in the data.\n",
        "# Image and Object Identification:\n",
        "              Boosting algorithms can achieve high performance in image and object recognition tasks by progressively improving the identification of features and objects.\n",
        "# Data Mining and Sentiment Analysis:\n",
        "                The focus on reducing bias in boosting makes it ideal for applications where a strong predictive model is needed to uncover subtle\n",
        "                   patterns and sentiment in large datasets.\n"
      ],
      "metadata": {
        "id": "fj0E-OMBkE55"
      },
      "execution_count": null,
      "outputs": []
    },
    {
      "cell_type": "code",
      "source": [
        "6.  Write a Python program to:\n",
        " ● Train an AdaBoost Classifier on the Breast Cancer dataset\n",
        "● Print the model accuracy\n",
        "\n",
        "\n",
        "from sklearn.datasets import load_breast_cancer\n",
        "from sklearn.model_selection import train_test_split\n",
        "from sklearn.ensemble import AdaBoostClassifier\n",
        "from sklearn.metrics import accuracy_score\n",
        "\n",
        "# Load dataset\n",
        "data = load_breast_cancer()\n",
        "X, y = data.data, data.target\n",
        "\n",
        "# Split dataset into train and test\n",
        "X_train, X_test, y_train, y_test = train_test_split(\n",
        "    X, y, test_size=0.2, random_state=42\n",
        ")\n",
        "\n",
        "# Initialize AdaBoost Classifier\n",
        "model = AdaBoostClassifier(n_estimators=100, random_state=42)\n",
        "\n",
        "# Train model\n",
        "model.fit(X_train, y_train)\n",
        "\n",
        "# Predictions\n",
        "y_pred = model.predict(X_test)\n",
        "\n",
        "# Accuracy\n",
        "accuracy = accuracy_score(y_test, y_pred)\n",
        "print(f\"Model Accuracy: {accuracy:.4f}\")\n"
      ],
      "metadata": {
        "colab": {
          "base_uri": "https://localhost:8080/"
        },
        "id": "50Wx1ilZkE9g",
        "outputId": "1ccbbce9-c95b-46ef-dff2-48d6e143ed39"
      },
      "execution_count": 1,
      "outputs": [
        {
          "output_type": "stream",
          "name": "stdout",
          "text": [
            "Model Accuracy: 0.9737\n"
          ]
        }
      ]
    },
    {
      "cell_type": "code",
      "source": [
        "7.\n",
        "Write a Python program to:\n",
        "● Train a Gradient Boosting Regressor on the California Housing dataset\n",
        "● Evaluate performance using R-squared score\n",
        "\n",
        "\n",
        "from sklearn.datasets import fetch_california_housing\n",
        "from sklearn.model_selection import train_test_split\n",
        "from sklearn.ensemble import GradientBoostingRegressor\n",
        "from sklearn.metrics import r2_score\n",
        "\n",
        "# Load dataset\n",
        "data = fetch_california_housing()\n",
        "X, y = data.data, data.target\n",
        "\n",
        "# Split dataset into train and test\n",
        "X_train, X_test, y_train, y_test = train_test_split(\n",
        "    X, y, test_size=0.2, random_state=42\n",
        ")\n",
        "\n",
        "# Initialize Gradient Boosting Regressor\n",
        "model = GradientBoostingRegressor(n_estimators=200, learning_rate=0.1,\n",
        "                                  max_depth=3, random_state=42)\n",
        "\n",
        "# Train model\n",
        "model.fit(X_train, y_train)\n",
        "\n",
        "# Predictions\n",
        "y_pred = model.predict(X_test)\n",
        "\n",
        "# Evaluate with R-squared score\n",
        "r2 = r2_score(y_test, y_pred)\n",
        "print(f\"R-squared Score: {r2:.4f}\")\n"
      ],
      "metadata": {
        "colab": {
          "base_uri": "https://localhost:8080/"
        },
        "id": "sg60OB9Omr8R",
        "outputId": "b5b769e2-bfc8-4d5a-aa80-24ad437815fc"
      },
      "execution_count": 2,
      "outputs": [
        {
          "output_type": "stream",
          "name": "stdout",
          "text": [
            "R-squared Score: 0.8004\n"
          ]
        }
      ]
    },
    {
      "cell_type": "code",
      "source": [
        "8.  Write a Python program to:\n",
        "● Train an XGBoost Classifier on the Breast Cancer dataset\n",
        " ● Tune the learning rate using GridSearchCV\n",
        "● Print the best parameters and accuracy\n",
        "\n",
        "\n",
        "\n",
        "from sklearn.datasets import load_breast_cancer\n",
        "from sklearn.model_selection import train_test_split, GridSearchCV\n",
        "from sklearn.metrics import accuracy_score\n",
        "from xgboost import XGBClassifier\n",
        "\n",
        "# Load dataset\n",
        "data = load_breast_cancer()\n",
        "X, y = data.data, data.target\n",
        "\n",
        "# Split into train and test\n",
        "X_train, X_test, y_train, y_test = train_test_split(\n",
        "    X, y, test_size=0.2, random_state=42\n",
        ")\n",
        "\n",
        "# Initialize XGBoost Classifier\n",
        "xgb = XGBClassifier(use_label_encoder=False, eval_metric='logloss', random_state=42)\n",
        "\n",
        "# Define parameter grid for learning_rate\n",
        "param_grid = {\n",
        "    'learning_rate': [0.01, 0.05, 0.1, 0.2, 0.3]\n",
        "}\n",
        "\n",
        "# GridSearchCV\n",
        "grid_search = GridSearchCV(\n",
        "    estimator=xgb,\n",
        "    param_grid=param_grid,\n",
        "    scoring='accuracy',\n",
        "    cv=5,\n",
        "    n_jobs=-1\n",
        ")\n",
        "\n",
        "# Fit model\n",
        "grid_search.fit(X_train, y_train)\n",
        "\n",
        "# Best parameters\n",
        "print(\"Best Parameters:\", grid_search.best_params_)\n",
        "\n",
        "# Evaluate on test set\n",
        "best_model = grid_search.best_estimator_\n",
        "y_pred = best_model.predict(X_test)\n",
        "accuracy = accuracy_score(y_test, y_pred)\n",
        "\n",
        "print(f\"Test Accuracy: {accuracy:.4f}\")\n"
      ],
      "metadata": {
        "colab": {
          "base_uri": "https://localhost:8080/"
        },
        "id": "HZEZHnnjnF7b",
        "outputId": "28e61d7f-58a5-4f00-f8ff-2abf33dbf820"
      },
      "execution_count": 3,
      "outputs": [
        {
          "output_type": "stream",
          "name": "stdout",
          "text": [
            "Best Parameters: {'learning_rate': 0.2}\n",
            "Test Accuracy: 0.9561\n"
          ]
        },
        {
          "output_type": "stream",
          "name": "stderr",
          "text": [
            "/usr/local/lib/python3.12/dist-packages/xgboost/training.py:183: UserWarning: [16:58:43] WARNING: /workspace/src/learner.cc:738: \n",
            "Parameters: { \"use_label_encoder\" } are not used.\n",
            "\n",
            "  bst.update(dtrain, iteration=i, fobj=obj)\n"
          ]
        }
      ]
    },
    {
      "cell_type": "code",
      "metadata": {
        "colab": {
          "base_uri": "https://localhost:8080/",
          "height": 581
        },
        "id": "6c4bdc98",
        "outputId": "fc025835-00f2-4283-8b46-fc0b2e40df8c"
      },
      "source": [
        "9.   Write a Python program to:\n",
        " ● Train a CatBoost Classifier\n",
        " ● Plot the confusion matrix using seaborn\n",
        "\n",
        "\n",
        "\n",
        "import pandas as pd\n",
        "import numpy as np\n",
        "from sklearn.model_selection import train_test_split\n",
        "from catboost import CatBoostClassifier\n",
        "from sklearn.metrics import confusion_matrix, accuracy_score\n",
        "import seaborn as sns\n",
        "import matplotlib.pyplot as plt\n",
        "\n",
        "\n",
        "# 1. Data Preparation (Example using a dummy dataset)\n",
        "# In a real-world scenario, load your dataset here (e.g., pd.read_csv('your_data.csv'))\n",
        "data = {\n",
        "    'feature1': np.random.rand(100),\n",
        "    'feature2': np.random.rand(100) * 10,\n",
        "    'feature3': np.random.randint(0, 2, 100), # Categorical feature\n",
        "    'target': np.random.randint(0, 2, 100) # Binary target variable\n",
        "}\n",
        "df = pd.DataFrame(data)\n",
        "\n",
        "X = df[['feature1', 'feature2', 'feature3']]\n",
        "y = df['target']\n",
        "\n",
        "# Identify categorical features\n",
        "categorical_features_indices = [X.columns.get_loc('feature3')]\n",
        "\n",
        "# Split data into training and testing sets\n",
        "X_train, X_test, y_train, y_test = train_test_split(X, y, test_size=0.2, random_state=42)\n",
        "\n",
        "# 2. Train a CatBoost Classifier\n",
        "model = CatBoostClassifier(\n",
        "    iterations=100,\n",
        "    learning_rate=0.1,\n",
        "    depth=6,\n",
        "    loss_function='Logloss',\n",
        "    random_seed=42,\n",
        "    verbose=False  # Suppress training output for cleaner console\n",
        ")\n",
        "\n",
        "model.fit(X_train, y_train, cat_features=categorical_features_indices)\n",
        "\n",
        "# 3. Make predictions on the test set\n",
        "y_pred = model.predict(X_test)\n",
        "\n",
        "# 4. Calculate and Plot the Confusion Matrix\n",
        "cm = confusion_matrix(y_test, y_pred)\n",
        "\n",
        "plt.figure(figsize=(8, 6))\n",
        "sns.heatmap(cm, annot=True, fmt='d', cmap='Blues', cbar=False,\n",
        "            xticklabels=['Predicted 0', 'Predicted 1'],\n",
        "            yticklabels=['Actual 0', 'Actual 1'])\n",
        "plt.xlabel('Predicted Label')\n",
        "plt.ylabel('True Label')\n",
        "plt.title('Confusion Matrix for CatBoost Classifier')\n",
        "plt.show()\n",
        "\n",
        "# Optional: Print accuracy score\n",
        "accuracy = accuracy_score(y_test, y_pred)\n",
        "print(f\"Model Accuracy: {accuracy:.2f}\")"
      ],
      "execution_count": 9,
      "outputs": [
        {
          "output_type": "display_data",
          "data": {
            "text/plain": [
              "<Figure size 800x600 with 1 Axes>"
            ],
            "image/png": "[encoded data removed]"
          },
          "metadata": {}
        },
        {
          "output_type": "stream",
          "name": "stdout",
          "text": [
            "Model Accuracy: 0.45\n"
          ]
        }
      ]
    },
    {
      "cell_type": "code",
      "source": [
        "10. : You're working for a FinTech company trying to predict loan default using\n",
        "customer demographics and transaction behavior.\n",
        "The dataset is imbalanced, contains missing values, and has both numeric and\n",
        "categorical features.\n",
        "Describe your step-by-step data science pipeline using boosting techniques:\n",
        "● Data preprocessing & handling missing/categorical values\n",
        "● Choice between AdaBoost, XGBoost, or CatBoost\n",
        "● Hyperparameter tuning strategy\n",
        "● Evaluation metrics you'd choose and why\n",
        "● How the business would benefit from your model\n",
        "\n",
        "\n",
        "\n",
        "\n",
        "# -->   1. Data Preprocessing & Handling Missing/Categorical Values\n",
        "\n",
        "Load and Inspect Data:\n",
        "             Load the dataset and use functions like info() and describe() to understand its structure, data types, and summary statistics.\n",
        "Handle Missing Values:\n",
        "Imputation:\n",
        "             For numerical features, use mean, median, or a model-based imputer. For categorical features, use the mode or a constant value.\n",
        "Consideration:\n",
        "               Given the imbalanced nature, you may want to impute missing values in a way that doesn't further skew the data.\n",
        "# Handle Categorical Features:\n",
        "Encoding:\n",
        "      Since boosting models can handle categorical features directly, consider using techniques like one-hot encoding or,\n",
        "       preferably, CatBoost's built-in categorical encoding to avoid high dimensionality and potential data leakage.\n",
        "Handle Imbalanced Data:\n",
        "Resampling:\n",
        "          Address the class imbalance by oversampling the minority class (defaulted loans) using techniques like SMOTE (Synthetic Minority\n",
        "          Over-sampling Technique) or undersampling the majority class.\n",
        "Class Weights:\n",
        "         Alternatively, some boosting algorithms (like XGBoost and CatBoost) have built-in parameters to assign class weights to give more importance\n",
        "           to the minority class during training.\n",
        "Feature Scaling:\n",
        "             While not strictly necessary for tree-based models, it can be beneficial for some boosting algorithms or when comparing with other\n",
        "                models, and it is a good practice for overall robustness.\n",
        "\n",
        "# 2. Choice Between AdaBoost, XGBoost, or CatBoost\n",
        "\n",
        "CatBoost:\n",
        "            Recommended for this use case because it excels at handling categorical features directly and automatically, which simplifies\n",
        "                the preprocessing step significantly and improves performance.\n",
        "XGBoost:\n",
        "          A very popular and efficient gradient boosting library, but it requires one-hot encoding for categorical features, which can increase\n",
        "             the feature space and potentially lead to issues if not managed well.\n",
        "AdaBoost:\n",
        "           An older, foundational algorithm. While effective, it can be sensitive to noisy data and may not be as performant or efficient\n",
        "                as XGBoost or CatBoost for complex datasets with many features.\n",
        "\n",
        "# 3. Hyperparameter Tuning Strategy\n",
        "\n",
        "Grid Search CV:\n",
        "    A systematic approach where you define a grid of hyperparameter values and evaluate all combinations using cross-validation.\n",
        "  This is good but can be computationally expensive.\n",
        "# Bayesian Optimization:\n",
        "          A  more advanced and efficient method that uses probabilistic models to predict the performance of hyperparameters and\n",
        "             intelligently chooses the next set of parameters to evaluate. This can find optimal values faster than grid search.\n",
        "\n",
        "# Key Hyperparameters to Tune (for XGBoost/CatBoost):\n",
        "\n",
        "n_estimators (number of boosting rounds)\n",
        "learning_rate (step size shrinkage)\n",
        "max_depth (maximum depth of trees)\n",
        "subsample and colsample_bytree (data and feature subsampling)\n",
        "reg_alpha and reg_lambda (L1 and L2 regularization)\n",
        "scale_pos_weight (for handling imbalanced datasets in XGBoost)\n",
        "\n",
        "# 4. Evaluation Metrics\n",
        "\n",
        "Precision:\n",
        "Of all the loans predicted as defaults, what percentage actually defaulted. High precision minimizes false positives (flagging a good loan as a default).\n",
        "Recall (Sensitivity):\n",
        "Of all the actual defaults, what percentage did the model identify. High recall minimizes false negatives (failing to identify a defaulting loan).\n",
        "F1-Score:\n",
        "The harmonic mean of precision and recall, providing a single metric that balances both.\n",
        "\n",
        "\n"
      ],
      "metadata": {
        "id": "DLM57TYZoWhX"
      },
      "execution_count": null,
      "outputs": []
    }
  ]
}